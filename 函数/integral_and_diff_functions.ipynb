{
 "cells": [
  {
   "cell_type": "code",
   "execution_count": 7,
   "metadata": {},
   "outputs": [
    {
     "name": "stdout",
     "output_type": "stream",
     "text": [
      "请输入被积函数：exp\n",
      "请输入积分上限值：8\n",
      "请输入积分下限值;6\n",
      "2980.9579870417283\n",
      "403.4287934927351\n",
      "该点积分值为: 3384.3867805344635\n"
     ]
    }
   ],
   "source": [
    "import numpy as np\n",
    "f = str(input(\"请输入被积函数：\"))\n",
    "x = str(input(\"请输入积分上限值：\"))\n",
    "y = str(input(\"请输入积分下限值;\"))\n",
    "def diff(f, x, y):\n",
    "    \n",
    "    if f == \"exp\":\n",
    "        if x == \"ln3\":\n",
    "            x1 = np.log(3)\n",
    "        else:\n",
    "            x1 = float(x)\n",
    "        y1 = float(y)\n",
    "        a = np.exp(x1)\n",
    "        print(a)\n",
    "        b = np.exp(y1)\n",
    "        print(b)\n",
    "        c = (a + b)*(x1 - y1)/2\n",
    "        print(\"该点积分值为:\",c)\n",
    "    elif f == \"sin\":\n",
    "        if x == \"pi\":\n",
    "            x1 = np.pi\n",
    "        elif x == \"pi/2\":\n",
    "            x1 = np.pi/2\n",
    "        else:\n",
    "            x1 = float(x)\n",
    "        y1 = float(y)\n",
    "        a = np.sin(x1)\n",
    "        b = np.sin(y1)\n",
    "        c = (a + b) * (x1 - y1) / 2\n",
    "        print(\"该点积分值为:\",c)\n",
    "    elif f == \"cos\":\n",
    "        if x == \"pi\":\n",
    "            x1 = np.pi\n",
    "        else:\n",
    "            x1 = float(x)\n",
    "        y1 = float(y)\n",
    "        a = np.cos(x1)\n",
    "        b = np.cos(y1)\n",
    "        c = (a + b)*(x1 - y1)/2\n",
    "        print(\"该点积分值为:\",c)\n",
    "diff(f, x, y)"
   ]
  },
  {
   "cell_type": "markdown",
   "metadata": {},
   "source": [
    "# 积分函数修改\n",
    "1. 函数名\n",
    "2. 使用`eval` 函数\n",
    "3. 变量命名规范\n",
    "4. 结果部分另外写出来。\n",
    "5. 注释。函数用法。"
   ]
  },
  {
   "cell_type": "code",
   "execution_count": null,
   "metadata": {},
   "outputs": [],
   "source": []
  },
  {
   "cell_type": "code",
   "execution_count": 1,
   "metadata": {},
   "outputs": [],
   "source": [
    "eval?"
   ]
  },
  {
   "cell_type": "code",
   "execution_count": null,
   "metadata": {},
   "outputs": [],
   "source": [
    "f = str(input(\"请输入函数：\"))\n",
    "x = str(input(\"请输入x值：\"))\n",
    "h = str(input(\"请输入h的值;\"))\n",
    "def diff(f, x, h):\n",
    "    if f == \"exp\":\n",
    "        x1 = float(x)\n",
    "        h1 = float(h)\n",
    "        a = np.exp(x1 + h1)\n",
    "        print(a)\n",
    "        b = np.exp(x1 - h1)\n",
    "        print(b)\n",
    "        c = (a - b)/(2*h1)\n",
    "        print(\"该点导数为:\",c)\n",
    "    elif f == \"exp2\":\n",
    "        x1 = float(x)\n",
    "        h1 = float(h)\n",
    "        a = np.exp(-2*((x1 + h1)**2))\n",
    "        b = np.exp(-2*((x1 - h1)**2))\n",
    "        c = (a-b)/(2*h1)\n",
    "        print(a)\n",
    "        print(b)\n",
    "        print(\"该点导数为:\",c)\n",
    "    elif f == \"cos\":\n",
    "        if x == \"2pi\":\n",
    "            x1 = 2*np.pi\n",
    "        else:\n",
    "            x1 = float(x)\n",
    "        h1 = float(h)\n",
    "        a = np.cos(x1 + h1)\n",
    "        b = np.cos(x1 - h1)\n",
    "        c = (a - b)/(2*h1)\n",
    "        print(\"该点导数为:\",c)\n",
    "    elif f == \"ln\":\n",
    "        x1 = float(x)\n",
    "        h1 = float(h)\n",
    "        a = np.log(x1 + h1)\n",
    "        b = np.log(x1 - h1)\n",
    "        c = (a - b)/(2*h1)\n",
    "        print(\"该点导数为:\",c)\n",
    "diff(f, x, h)"
   ]
  },
  {
   "cell_type": "code",
   "execution_count": null,
   "metadata": {},
   "outputs": [],
   "source": []
  },
  {
   "cell_type": "code",
   "execution_count": null,
   "metadata": {},
   "outputs": [],
   "source": []
  }
 ],
 "metadata": {
  "kernelspec": {
   "display_name": "Python 3",
   "language": "python",
   "name": "python3"
  },
  "language_info": {
   "codemirror_mode": {
    "name": "ipython",
    "version": 3
   },
   "file_extension": ".py",
   "mimetype": "text/x-python",
   "name": "python",
   "nbconvert_exporter": "python",
   "pygments_lexer": "ipython3",
   "version": "3.6.6"
  }
 },
 "nbformat": 4,
 "nbformat_minor": 2
}
