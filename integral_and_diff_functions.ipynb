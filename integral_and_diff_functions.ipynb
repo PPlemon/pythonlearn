{
 "cells": [
  {
   "cell_type": "code",
   "execution_count": 38,
   "metadata": {},
   "outputs": [],
   "source": [
    "import numpy as np\n",
    "def integrate(f, a, b):\n",
    "    a1 = '(' + str(a) + ')'  # 将传入的参数连接成可替换的参数\n",
    "    b1 = '(' + str(b) + ')'\n",
    "    a2 = f.replace('(x)', (a1)) #将传入的函数f中的参数(x)替换为a1\n",
    "    b2 = f.replace('(x)', (b1))\n",
    "    fa = eval(a2)        # 计算函数表达式\n",
    "    fb = eval(b2)\n",
    "    Integral = (b - a)*(fa + fb)/2 #计算积分估计值\n",
    "    return Integral\n"
   ]
  },
  {
   "cell_type": "markdown",
   "metadata": {},
   "source": [
    "# 积分函数修改\n",
    "1. 函数名\n",
    "2. 使用`eval` 函数\n",
    "3. 变量命名规范\n",
    "4. 结果部分另外写出来。\n",
    "5. 注释。函数用法。"
   ]
  },
  {
   "cell_type": "code",
   "execution_count": 39,
   "metadata": {
    "scrolled": true
   },
   "outputs": [
    {
     "name": "stdout",
     "output_type": "stream",
     "text": [
      "exp函数在0到ln3区间的积分估计值为： 2.1972245773362196 \n",
      "exp函数在0到ln3区间的积分准确值为：2\n",
      "估计值与准确值的误差为： 0.19722457733621956\n",
      "cos函数在0到pi区间的积分估计值为： 0.0 \n",
      "cos函数在0到pi区间的积分准确值为：0\n",
      "估计值与准确值的误差为： 0.0\n",
      "sin函数在0到pi区间的积分估计值为： 1.9236706937217898e-16 \n",
      "sin函数在0到pi区间的积分准确值为：2\n",
      "估计值与准确值的误差为： -1.9999999999999998\n",
      "sin函数在0到pi/2区间的积分估计值为： 0.7853981633974483 \n",
      "sin函数在0到pi/2区间的积分准确值为：1\n",
      "估计值与准确值的误差为： -0.21460183660255172\n"
     ]
    }
   ],
   "source": [
    "print(\"exp函数在0到ln3区间的积分估计值为：\",integrate(\"np.exp(x)\", 0, np.log(3)),\"\\nexp函数在0到ln3区间的积分准确值为：2\\n\"\"估计值与准确值的误差为：\",integrate(\"np.exp(x)\", 0, np.log(3))-2)\n",
    "print(\"cos函数在0到pi区间的积分估计值为：\",integrate(\"np.cos(x)\", 0, np.pi),\"\\ncos函数在0到pi区间的积分准确值为：0\\n\"\"估计值与准确值的误差为：\",integrate(\"np.cos(x)\", 0, np.pi)-0)\n",
    "print(\"sin函数在0到pi区间的积分估计值为：\",integrate(\"np.sin(x)\", 0, np.pi),\"\\nsin函数在0到pi区间的积分准确值为：2\\n\"\"估计值与准确值的误差为：\",integrate(\"np.sin(x)\", 0, np.pi)-2)\n",
    "print(\"sin函数在0到pi/2区间的积分估计值为：\",integrate(\"np.sin(x)\", 0, np.pi/2),\"\\nsin函数在0到pi/2区间的积分准确值为：1\\n\"\"估计值与准确值的误差为：\",integrate(\"np.sin(x)\", 0, np.pi/2)-1)"
   ]
  },
  {
   "cell_type": "code",
   "execution_count": 40,
   "metadata": {},
   "outputs": [],
   "source": [
    "def diff(f, x, h = 1E-6):\n",
    "    x1 = '('+str(x+h)+')'   # 将传入的参数连接成可替换的参数\n",
    "    x2 = '('+str(x-h)+')'\n",
    "    x1 = f.replace('(x)',(x1))  #将传入的函数f中的参数(x)替换为a1\n",
    "    h1 = f.replace('(x)',(x2))\n",
    "    fa = eval(x1)   # 计算函数表达式\n",
    "    fb = eval(h1)\n",
    "    Derivatives = (fa - fb)/(2*h)  #计算导数估计值\n",
    "    return Derivatives"
   ]
  },
  {
   "cell_type": "code",
   "execution_count": 41,
   "metadata": {},
   "outputs": [
    {
     "name": "stdout",
     "output_type": "stream",
     "text": [
      "exp函数在0点的导数估计值为： 1.0000166667499921 \n",
      "exp函数在0点的导数准确值为：1\n",
      "估计值与准确值的误差为： 1.6666749992122476e-05\n",
      "exp(-2*x**2)函数在0点的导数估计值为： 0.0 \n",
      "exp(-2*x**2)函数在0点的导数准确值为：0\n",
      "估计值与准确值的误差为： 0.0\n",
      "cos函数在2pi点的导数估计值为： 0.0 \n",
      "cos函数在2pi点的导数准确值为：0\n",
      "估计值与准确值的误差为： 0.0\n",
      "ln函数在1点的导数估计值为： 1.0000333353334772 \n",
      "ln函数在1点的导数准确值为：1\n",
      "估计值与准确值的误差为： 3.3335333477158e-05\n"
     ]
    }
   ],
   "source": [
    "print(\"exp函数在0点的导数估计值为：\",diff('np.exp(x)', 0, 0.01),\"\\nexp函数在0点的导数准确值为：1\\n\"\"估计值与准确值的误差为：\",diff('np.exp(x)', 0, 0.01)-1)\n",
    "print(\"exp(-2*x**2)函数在0点的导数估计值为：\",diff('np.exp(-2*np.square(x))', 0, 0.01),\"\\nexp(-2*x**2)函数在0点的导数准确值为：0\\n\"\"估计值与准确值的误差为：\",diff('np.exp(-2*np.square(x))', -2*0**2, 0.01)-0)\n",
    "print(\"cos函数在2pi点的导数估计值为：\",diff('np.cos(x)', 2*np.pi, 0.01),\"\\ncos函数在2pi点的导数准确值为：0\\n\"\"估计值与准确值的误差为：\",diff('np.cos(x)', 2*np.pi, 0.01)-0)\n",
    "print(\"ln函数在1点的导数估计值为：\",diff('np.log(x)', 1, 0.01),\"\\nln函数在1点的导数准确值为：1\\n\"\"估计值与准确值的误差为：\",diff('np.log(x)', 1, 0.01)-1)"
   ]
  }
 ],
 "metadata": {
  "kernelspec": {
   "display_name": "Python 3",
   "language": "python",
   "name": "python3"
  },
  "language_info": {
   "codemirror_mode": {
    "name": "ipython",
    "version": 3
   },
   "file_extension": ".py",
   "mimetype": "text/x-python",
   "name": "python",
   "nbconvert_exporter": "python",
   "pygments_lexer": "ipython3",
   "version": "3.7.3"
  }
 },
 "nbformat": 4,
 "nbformat_minor": 2
}
