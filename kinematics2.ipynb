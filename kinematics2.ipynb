{
 "cells": [
  {
   "cell_type": "code",
   "execution_count": 20,
   "metadata": {},
   "outputs": [],
   "source": [
    "import numpy as np\n",
    "def kinematics(x, y, t, dt = 1E-6):\n",
    "    #将传入的参数转化为字符\n",
    "    st0 = str(t)\n",
    "    st1 = str(t + dt)\n",
    "    st2 = str(t - dt)\n",
    "    #用已转化的字符将传入的函数中的时间t替换\n",
    "    sx = x.replace('t', st0)\n",
    "    sy = y.replace('t', st0)\n",
    "    sx1 = x.replace('t', st1)\n",
    "    sx2 = x.replace('t', st2)\n",
    "    sy1 = y.replace('t', st1)\n",
    "    sy2 = y.replace('t', st2)\n",
    "    #用eval函数将替换后的表达式计算出值，得到计算速度和加速度时需要额度参数如x(t),y(t)\n",
    "    x = eval(sx)   #x(t)\n",
    "    y = eval(sy)   #y(t)\n",
    "    x1 = eval(sx1) #x(t + dt)\n",
    "    x2 = eval(sx2) #x(t - dt)\n",
    "    y1 = eval(sy1) #y(t + dt)\n",
    "    y2 = eval(sy2) #y(t - dt)\n",
    "    #计算\n",
    "    vt = ((x1-x2)/(2*dt) , (y1 - y2)/(2*dt)) #速度计算\n",
    "    at = ((x1 - 2*x + x2)/dt**2 , (y1 - 2*y + y2)/dt**2) #加速度计算\n",
    "    return ((x,y), vt, at)"
   ]
  },
  {
   "cell_type": "code",
   "execution_count": 21,
   "metadata": {},
   "outputs": [
    {
     "name": "stdout",
     "output_type": "stream",
     "text": [
      "时间t=0时的位置、速度、加速度分别为： ((1.0, 0.0), (0.0, 6.279051952931337), (-39.46543143456882, 0.0))\n",
      "时间t=pi时的位置、速度、加速度分别为： ((0.62968172529648, 0.7768532196159377), (-4.877901725770423, 3.9538042669480187), (-24.850660955290092, -30.658847473475912))\n"
     ]
    }
   ],
   "source": [
    "print(\"时间t=0时的位置、速度、加速度分别为：\",kinematics('np.cos(2*np.pi*t)', 'np.sin(2*np.pi*t)', 0, 0.01))\n",
    "print(\"时间t=pi时的位置、速度、加速度分别为：\",kinematics('np.cos(2*np.pi*t)', 'np.sin(2*np.pi*t)', np.pi, 0.01))"
   ]
  }
 ],
 "metadata": {
  "kernelspec": {
   "display_name": "Python 3",
   "language": "python",
   "name": "python3"
  },
  "language_info": {
   "codemirror_mode": {
    "name": "ipython",
    "version": 3
   },
   "file_extension": ".py",
   "mimetype": "text/x-python",
   "name": "python",
   "nbconvert_exporter": "python",
   "pygments_lexer": "ipython3",
   "version": "3.7.3"
  }
 },
 "nbformat": 4,
 "nbformat_minor": 2
}
